{
  "metadata": {
    "kernelspec": {
      "name": "python",
      "display_name": "Python (Pyodide)",
      "language": "python"
    },
    "language_info": {
      "codemirror_mode": {
        "name": "python",
        "version": 3
      },
      "file_extension": ".py",
      "mimetype": "text/x-python",
      "name": "python",
      "nbconvert_exporter": "python",
      "pygments_lexer": "ipython3",
      "version": "3.8"
    }
  },
  "nbformat_minor": 5,
  "nbformat": 4,
  "cells": [
    {
      "id": "df31a4dd-6cd7-4ac9-a8c2-33d803259924",
      "cell_type": "code",
      "source": "import datetime\nimport math\nimport os\n\ncurrent_datetime = datetime.datetime.now()\nprint(\"Current date and time:\", current_datetime)\n\nindependence_day = datetime.date(2022, 7, 4)\nprint(\"Date object for July 4, 2022:\", independence_day)\n\nspecific_date = datetime.date(2021, 12, 15)\nprint(\"Month name from December 15, 2021:\", specific_date.strftime('%B'))\n\nprint(\"Square root of 81:\", math.sqrt(81))\n\nprint(\"Ceiling of 8.3:\", math.ceil(8.3))\nprint(\"Floor of 8.3:\", math.floor(8.3))\n\nprint(\"2 to the power of 5:\", math.pow(2, 5))\n\nprint(\"Value of pi:\", math.pi)\n\nprint(\"Length of 'Python':\", len(\"Python\"))\nprint(\"Length of (1, 2, 3):\", len((1, 2, 3)))\nprint(\"Length of dictionary:\", len({\"name\": \"John\", \"age\": 30}))\n\nclass Dog:\n    def speak(self):\n        print(\"Woof!\")\n\nclass Cat:\n    def speak(self):\n        print(\"Meow!\")\n\nclass Bird:\n    def speak(self):\n        print(\"Chirp!\")\n\nanimals = [Dog(), Cat(), Bird()]\nfor animal in animals:\n    animal.speak()\n\nfilename = \"notes.txt\"\n\nwith open(filename, \"w\") as file:\n    file.write(\"First Line\\n\")\n\nwith open(filename, \"r\") as file:\n    content = file.read()\n    print(\"File content after first write:\\n\", content)\n\nwith open(filename, \"a\") as file:\n    file.write(\"Second Line\\n\")\n\nwith open(filename, \"r\") as file:\n    updated_content = file.read()\n    print(\"File content after appending:\\n\", updated_content)\n\n\n\ntestfile = \"testfile.txt\"\n\nif os.path.exists(testfile):\n    os.remove(testfile)\n    print(\"File deleted.\")\nelse:\n    print(\"File does not exist.\")\n",
      "metadata": {
        "trusted": true
      },
      "outputs": [
        {
          "name": "stdout",
          "output_type": "stream",
          "text": "Current date and time: 2025-04-21 17:42:44.777000\nDate object for July 4, 2022: 2022-07-04\nMonth name from December 15, 2021: December\nSquare root of 81: 9.0\nCeiling of 8.3: 9\nFloor of 8.3: 8\n2 to the power of 5: 32.0\nValue of pi: 3.141592653589793\nLength of 'Python': 6\nLength of (1, 2, 3): 3\nLength of dictionary: 2\nWoof!\nMeow!\nChirp!\nFile content after first write:\n First Line\n\nFile content after appending:\n First Line\nSecond Line\n\nFile does not exist.\n"
        }
      ],
      "execution_count": 2
    }
  ]
}