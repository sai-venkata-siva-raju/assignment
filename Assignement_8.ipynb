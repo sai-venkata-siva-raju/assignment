{
  "metadata": {
    "kernelspec": {
      "name": "python",
      "display_name": "Python (Pyodide)",
      "language": "python"
    },
    "language_info": {
      "codemirror_mode": {
        "name": "python",
        "version": 3
      },
      "file_extension": ".py",
      "mimetype": "text/x-python",
      "name": "python",
      "nbconvert_exporter": "python",
      "pygments_lexer": "ipython3",
      "version": "3.8"
    }
  },
  "nbformat_minor": 5,
  "nbformat": 4,
  "cells": [
    {
      "id": "b2ba27c1-c950-4578-8b91-7292e34be847",
      "cell_type": "code",
      "source": "square = lambda x: x ** 2\nprint(square(8))  \n",
      "metadata": {
        "trusted": true
      },
      "outputs": [
        {
          "name": "stdout",
          "output_type": "stream",
          "text": "64\n"
        }
      ],
      "execution_count": 1
    },
    {
      "id": "7098ebe6-3bfb-429d-b8ea-2edbda112ff3",
      "cell_type": "code",
      "source": "multiply = lambda x, y, z: x * y * z\nprint(multiply(3, 4, 5)) \n",
      "metadata": {
        "trusted": true
      },
      "outputs": [
        {
          "name": "stdout",
          "output_type": "stream",
          "text": "60\n"
        }
      ],
      "execution_count": 2
    },
    {
      "id": "5ad746d5-beba-43c5-8309-bc93b72509f2",
      "cell_type": "code",
      "source": "maximum = lambda a, b: a if a > b else b\nprint(maximum(10, 20))  \n",
      "metadata": {
        "trusted": true
      },
      "outputs": [
        {
          "name": "stdout",
          "output_type": "stream",
          "text": "20\n"
        }
      ],
      "execution_count": 3
    },
    {
      "id": "9e8d3ebd-e2e2-499a-acd0-a7801f00ffa0",
      "cell_type": "code",
      "source": "numbers = [1, 2, 3, 4, 5, 6, 7, 8, 9, 10]\neven_numbers = list(filter(lambda x: x % 2 == 0, numbers))\nprint(even_numbers)  \n",
      "metadata": {
        "trusted": true
      },
      "outputs": [
        {
          "name": "stdout",
          "output_type": "stream",
          "text": "[2, 4, 6, 8, 10]\n"
        }
      ],
      "execution_count": 4
    },
    {
      "id": "06983d7d-db7f-4440-b3a1-905006e80f52",
      "cell_type": "code",
      "source": "class Animal:\n    def __init__(self, species, name):\n        self.species = species\n        self.name = name\n\nbuddy = Animal(\"Dog\", \"Buddy\")\nprint(f\"Species: {buddy.species}, Name: {buddy.name}\")\n# Output: Species: Dog, Name: Buddy\n",
      "metadata": {
        "trusted": true
      },
      "outputs": [
        {
          "name": "stdout",
          "output_type": "stream",
          "text": "Species: Dog, Name: Buddy\n"
        }
      ],
      "execution_count": 5
    },
    {
      "id": "760e16fb-8756-435f-b187-abca362a3c2e",
      "cell_type": "code",
      "source": "class Car:\n    def __init__(self, brand, model, year):\n        self.brand = brand\n        self.model = model\n        self.year = year\n\n    def car_info(self):\n        print(f\"{self.year} {self.brand} {self.model}\")\n\nmy_car = Car(\"Toyota\", \"Corolla\", 2022)\nmy_car.car_info()  # Output: 2022 Toyota Corolla\n",
      "metadata": {
        "trusted": true
      },
      "outputs": [
        {
          "name": "stdout",
          "output_type": "stream",
          "text": "2022 Toyota Corolla\n"
        }
      ],
      "execution_count": 6
    },
    {
      "id": "3947bf8f-0ba9-47e7-b7fc-c6cf2ebe3647",
      "cell_type": "code",
      "source": "class Person:\n    def __init__(self, name):\n        self.name = name\n\n    def introduce(self):\n        print(f\"Hi, my name is {self.name}!\")\n\nalice = Person(\"Alice\")\nalice.introduce()  # Output: Hi, my name is Alice!\n",
      "metadata": {
        "trusted": true
      },
      "outputs": [
        {
          "name": "stdout",
          "output_type": "stream",
          "text": "Hi, my name is Alice!\n"
        }
      ],
      "execution_count": 7
    },
    {
      "id": "ca8909fe-5f8a-4c45-a822-c2917aa08b9b",
      "cell_type": "code",
      "source": "class Student:\n    def __init__(self, name, grades):\n        self.name = name\n        self.grades = grades\n\n    def average_grade(self):\n        return sum(self.grades) / len(self.grades)\n\nstudent = Student(\"John\", [85, 90, 78, 92])\nprint(student.average_grade())  # Output: 86.25\n",
      "metadata": {
        "trusted": true
      },
      "outputs": [
        {
          "name": "stdout",
          "output_type": "stream",
          "text": "86.25\n"
        }
      ],
      "execution_count": 8
    },
    {
      "id": "eac1a148-72e9-4d6f-9741-ed6eaa38f6ad",
      "cell_type": "code",
      "source": "from datetime import datetime\n\nclass Book:\n    def __init__(self, title, author, year_published):\n        self.title = title\n        self.author = author\n        self.year_published = year_published\n\n    def book_age(self):\n        current_year = datetime.now().year\n        return current_year - self.year_published\n\nbook = Book(\"1984\", \"George Orwell\", 1949)\nprint(book.book_age())  # Output: age of the book (e.g., 76 in 2025)\n",
      "metadata": {
        "trusted": true
      },
      "outputs": [
        {
          "name": "stdout",
          "output_type": "stream",
          "text": "76\n"
        }
      ],
      "execution_count": 9
    },
    {
      "id": "b504db09-d5d1-4081-8152-83b0e1d2fb85",
      "cell_type": "code",
      "source": "class BankAccount:\n    def __init__(self, owner, balance=0):\n        self.owner = owner\n        self.balance = balance\n\n    def deposit(self, amount):\n        self.balance += amount\n\n    def withdraw(self, amount):\n        if amount <= self.balance:\n            self.balance -= amount\n        else:\n            print(\"Insufficient funds.\")\n\naccount = BankAccount(\"Alice\", 100)\naccount.deposit(50)\naccount.withdraw(30)\naccount.withdraw(200)  # Should show insufficient funds\nprint(f\"Final balance: {account.balance}\")  # Output: Final balance: 120\n",
      "metadata": {
        "trusted": true
      },
      "outputs": [
        {
          "name": "stdout",
          "output_type": "stream",
          "text": "Insufficient funds.\nFinal balance: 120\n"
        }
      ],
      "execution_count": 10
    },
    {
      "id": "b9e53e0e-be9f-42ee-85d4-6d1bcd4bde21",
      "cell_type": "code",
      "source": "class Calculator:\n    def add(self, a, b):\n        return a + b\n\n    def subtract(self, a, b):\n        return a - b\n\n    def multiply(self, a, b):\n        return a * b\n\n    def divide(self, a, b):\n        if b != 0:\n            return a / b\n        else:\n            return \"Cannot divide by zero.\"\n\ncalc = Calculator()\nprint(calc.add(10, 5))        # 15\nprint(calc.subtract(10, 5))   # 5\nprint(calc.multiply(10, 5))   # 50\nprint(calc.divide(10, 2))     # 5.0\nprint(calc.divide(10, 0))     # Cannot divide by zero.\n",
      "metadata": {
        "trusted": true
      },
      "outputs": [
        {
          "name": "stdout",
          "output_type": "stream",
          "text": "15\n5\n50\n5.0\nCannot divide by zero.\n"
        }
      ],
      "execution_count": 11
    }
  ]
}