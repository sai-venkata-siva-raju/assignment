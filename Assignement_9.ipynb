{
  "metadata": {
    "kernelspec": {
      "name": "python",
      "display_name": "Python (Pyodide)",
      "language": "python"
    },
    "language_info": {
      "codemirror_mode": {
        "name": "python",
        "version": 3
      },
      "file_extension": ".py",
      "mimetype": "text/x-python",
      "name": "python",
      "nbconvert_exporter": "python",
      "pygments_lexer": "ipython3",
      "version": "3.8"
    }
  },
  "nbformat_minor": 5,
  "nbformat": 4,
  "cells": [
    {
      "id": "b2ba27c1-c950-4578-8b91-7292e34be847",
      "cell_type": "code",
      "source": "class Animal:\n    def __init__(self, name, species):\n        self.name = name\n        self.species = species\n\n    def describe(self):\n        print(f\"Name: {self.name}, Species: {self.species}\")\n\nclass Dog(Animal):\n    def __init__(self, name, species, breed):\n        super().__init__(name, species)\n        self.breed = breed\n\n    def bark(self):\n        print(\"Woof! Woof!\")\n\n# Instantiate Dog\ndog = Dog(\"Buddy\", \"Canine\", \"Golden Retriever\")\ndog.describe()\ndog.bark()\n",
      "metadata": {
        "trusted": true
      },
      "outputs": [
        {
          "name": "stdout",
          "output_type": "stream",
          "text": "Name: Buddy, Species: Canine\nWoof! Woof!\n"
        }
      ],
      "execution_count": 12
    },
    {
      "id": "7098ebe6-3bfb-429d-b8ea-2edbda112ff3",
      "cell_type": "code",
      "source": "class Person:\n    def __init__(self, first_name, last_name):\n        self.first_name = first_name\n        self.last_name = last_name\n\n    def print_name(self):\n        print(f\"Name: {self.first_name} {self.last_name}\")\n\nclass Employee(Person):\n    def __init__(self, first_name, last_name, employee_id):\n        super().__init__(first_name, last_name)\n        self.employee_id = employee_id\n\n    def print_employee_info(self):\n        self.print_name()\n        print(f\"Employee ID: {self.employee_id}\")\n\n# Instantiate Employee\nemp = Employee(\"John\", \"Doe\", \"E12345\")\nemp.print_employee_info()\n",
      "metadata": {
        "trusted": true
      },
      "outputs": [
        {
          "name": "stdout",
          "output_type": "stream",
          "text": "Name: John Doe\nEmployee ID: E12345\n"
        }
      ],
      "execution_count": 13
    },
    {
      "id": "ca8909fe-5f8a-4c45-a822-c2917aa08b9b",
      "cell_type": "code",
      "source": "import math\n\nclass Shape:\n    def area(self):\n        return 0\n\nclass Circle(Shape):\n    def __init__(self, radius):\n        self.radius = radius\n\n    def area(self):\n        return math.pi * self.radius ** 2\n\nclass Rectangle(Shape):\n    def __init__(self, width, height):\n        self.width = width\n        self.height = height\n\n    def area(self):\n        return self.width * self.height\n\n# Instantiate and print areas\ncircle = Circle(5)\nrectangle = Rectangle(4, 6)\n\nprint(f\"Circle area: {circle.area():.2f}\")\nprint(f\"Rectangle area: {rectangle.area()}\")\n",
      "metadata": {
        "trusted": true
      },
      "outputs": [
        {
          "name": "stdout",
          "output_type": "stream",
          "text": "Circle area: 78.54\nRectangle area: 24\n"
        }
      ],
      "execution_count": 14
    },
    {
      "id": "b9e53e0e-be9f-42ee-85d4-6d1bcd4bde21",
      "cell_type": "code",
      "source": "class Calculator:\n    def add(self, a, b):\n        return a + b\n\n    def subtract(self, a, b):\n        return a - b\n\n    def multiply(self, a, b):\n        return a * b\n\n    def divide(self, a, b):\n        if b != 0:\n            return a / b\n        else:\n            return \"Cannot divide by zero.\"\n\ncalc = Calculator()\nprint(calc.add(10, 5))        # 15\nprint(calc.subtract(10, 5))   # 5\nprint(calc.multiply(10, 5))   # 50\nprint(calc.divide(10, 2))     # 5.0\nprint(calc.divide(10, 0))     # Cannot divide by zero.\n",
      "metadata": {
        "trusted": true
      },
      "outputs": [
        {
          "name": "stdout",
          "output_type": "stream",
          "text": "15\n5\n50\n5.0\nCannot divide by zero.\n"
        }
      ],
      "execution_count": 17
    }
  ]
}