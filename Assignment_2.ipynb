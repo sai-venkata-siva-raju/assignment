{
  "metadata": {
    "kernelspec": {
      "name": "python",
      "display_name": "Python (Pyodide)",
      "language": "python"
    },
    "language_info": {
      "codemirror_mode": {
        "name": "python",
        "version": 3
      },
      "file_extension": ".py",
      "mimetype": "text/x-python",
      "name": "python",
      "nbconvert_exporter": "python",
      "pygments_lexer": "ipython3",
      "version": "3.8"
    }
  },
  "nbformat_minor": 5,
  "nbformat": 4,
  "cells": [
    {
      "id": "eccd2ab7-d3d6-48b8-8ccf-1f260838ca1c",
      "cell_type": "code",
      "source": "city=\"vijayawada\"\nprint(city)\nprint(type(city))\nnum=42\ncon=str(num)\nprint(con,type(con))\nname=\"sai venkata siva raju\"\nprint(len())",
      "metadata": {
        "trusted": true
      },
      "outputs": [
        {
          "name": "stdout",
          "output_type": "stream",
          "text": "vijayawada\n<class 'str'>\n42 <class 'str'>\n"
        }
      ],
      "execution_count": 10
    },
    {
      "id": "98015c32-df03-4fb7-954a-217cb097ae9b",
      "cell_type": "code",
      "source": "",
      "metadata": {
        "trusted": true
      },
      "outputs": [],
      "execution_count": null
    }
  ]
}