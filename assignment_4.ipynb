{
  "metadata": {
    "kernelspec": {
      "name": "python",
      "display_name": "Python (Pyodide)",
      "language": "python"
    },
    "language_info": {
      "codemirror_mode": {
        "name": "python",
        "version": 3
      },
      "file_extension": ".py",
      "mimetype": "text/x-python",
      "name": "python",
      "nbconvert_exporter": "python",
      "pygments_lexer": "ipython3",
      "version": "3.8"
    }
  },
  "nbformat_minor": 5,
  "nbformat": 4,
  "cells": [
    {
      "id": "eccd2ab7-d3d6-48b8-8ccf-1f260838ca1c",
      "cell_type": "code",
      "source": "a = 10\nb = 3\nprint(\"Addition:\",a + b) \nprint(\"Subtraction:\", a - b)  \nprint(\"Multiplication: \", a * b)\nprint(\"Division: \" ,a / b)  \nprint(\"Modulus: \", a % b)  \nprint(\"Exponentiation:\" ,a ** b) \nprint(\"Floor Division:\" ,a // b) ",
      "metadata": {
        "trusted": true
      },
      "outputs": [
        {
          "name": "stdout",
          "output_type": "stream",
          "text": "Addition: 13\nSubtraction: 7\nMultiplication:  30\nDivision:  3.3333333333333335\nModulus:  1\nExponentiation: 1000\nFloor Division: 3\n"
        }
      ],
      "execution_count": 18
    },
    {
      "id": "98015c32-df03-4fb7-954a-217cb097ae9b",
      "cell_type": "code",
      "source": "print(5 < 10)\nprint(15 > 20)\nprint(7 == 7)\nprint(3 != 8)\n\nprint(\"apple\"<\"banana\")\nprint(\"apple\">\"banana\")\nprint(\"apple\"==\"apple\")\nprint(\"apple\"\n",
      "metadata": {
        "trusted": true
      },
      "outputs": [
        {
          "name": "stdout",
          "output_type": "stream",
          "text": "True\nFalse\nTrue\nTrue\n"
        }
      ],
      "execution_count": 19
    }
  ]
}