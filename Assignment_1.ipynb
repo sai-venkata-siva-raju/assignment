{
  "metadata": {
    "kernelspec": {
      "name": "python",
      "display_name": "Python (Pyodide)",
      "language": "python"
    },
    "language_info": {
      "codemirror_mode": {
        "name": "python",
        "version": 3
      },
      "file_extension": ".py",
      "mimetype": "text/x-python",
      "name": "python",
      "nbconvert_exporter": "python",
      "pygments_lexer": "ipython3",
      "version": "3.8"
    }
  },
  "nbformat_minor": 5,
  "nbformat": 4,
  "cells": [
    {
      "id": "eccd2ab7-d3d6-48b8-8ccf-1f260838ca1c",
      "cell_type": "code",
      "source": "age = 10\nClass = 5\nshoe_size=6\nId_number=2121\nroom_number=10\n\nprint(\"age:\",age)\nprint(\"Class:\",Class)\nprint(\"shoe_size:\",shoe_size)\nprint(\"Id_number:\",Id_number)\nprint(\"room_number:\",room_number)",
      "metadata": {
        "trusted": true
      },
      "outputs": [
        {
          "name": "stdout",
          "output_type": "stream",
          "text": "age: 10\nClass: 5\nshoe_size: 6\nId_number: 2121\nroom_number: 10\n"
        }
      ],
      "execution_count": 2
    },
    {
      "id": "98015c32-df03-4fb7-954a-217cb097ae9b",
      "cell_type": "code",
      "source": "",
      "metadata": {
        "trusted": true
      },
      "outputs": [],
      "execution_count": null
    }
  ]
}