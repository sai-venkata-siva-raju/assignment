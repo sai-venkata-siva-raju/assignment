{
  "metadata": {
    "kernelspec": {
      "name": "python",
      "display_name": "Python (Pyodide)",
      "language": "python"
    },
    "language_info": {
      "codemirror_mode": {
        "name": "python",
        "version": 3
      },
      "file_extension": ".py",
      "mimetype": "text/x-python",
      "name": "python",
      "nbconvert_exporter": "python",
      "pygments_lexer": "ipython3",
      "version": "3.8"
    }
  },
  "nbformat_minor": 5,
  "nbformat": 4,
  "cells": [
    {
      "id": "284f32e9-2ac4-44a7-bf08-50cc9f36efeb",
      "cell_type": "code",
      "source": "a = 5\nb = 10\n\nif b > a:\n    print(\"b is greater than a\")\n",
      "metadata": {
        "trusted": true
      },
      "outputs": [
        {
          "name": "stdout",
          "output_type": "stream",
          "text": "b is greater than a\n"
        }
      ],
      "execution_count": 1
    },
    {
      "id": "9131fffb-aaae-470f-bc17-9cdabd59590d",
      "cell_type": "code",
      "source": "a = 10\nb = 10\n\nif b > a:\n    print(\"b is greater than a\")\nelse:\n    print(\"a and b are equal\")\n",
      "metadata": {
        "trusted": true
      },
      "outputs": [
        {
          "name": "stdout",
          "output_type": "stream",
          "text": "a and b are equal\n"
        }
      ],
      "execution_count": 2
    },
    {
      "id": "4f27f50c-ddb4-4cc7-ae09-a5fa99540c8f",
      "cell_type": "code",
      "source": "a = 15\nb = 10\n\nif b > a:\n    print(\"b is greater than a\")\nelif a == b:\n    print(\"a and b are equal\")\nelse:\n    print(\"a is greater than b\")\n",
      "metadata": {
        "trusted": true
      },
      "outputs": [
        {
          "name": "stdout",
          "output_type": "stream",
          "text": "a is greater than b\n"
        }
      ],
      "execution_count": 3
    },
    {
      "id": "e88e8323-9175-4917-a7b3-dcd31ffdacca",
      "cell_type": "code",
      "source": "fruits = (\"apple\", \"banana\", \"cherry\")\nprint(fruits[1])  # Prints \"banana\"\n",
      "metadata": {
        "trusted": true
      },
      "outputs": [
        {
          "name": "stdout",
          "output_type": "stream",
          "text": "banana\n"
        }
      ],
      "execution_count": 4
    },
    {
      "id": "1403e327-6199-4855-a84e-82afe9d616ad",
      "cell_type": "code",
      "source": "single_item = (\"apple\",)\nprint(type(single_item))  # <class 'tuple'>\n",
      "metadata": {
        "trusted": true
      },
      "outputs": [
        {
          "name": "stdout",
          "output_type": "stream",
          "text": "<class 'tuple'>\n"
        }
      ],
      "execution_count": 5
    },
    {
      "id": "b9011e4f-c055-45fe-90f6-9a48eca0318e",
      "cell_type": "code",
      "source": "fruits = (\"apple\", \"banana\", \"cherry\")\nif \"apple\" in fruits:\n    print(\"Yes, 'apple' is in the tuple\")\n",
      "metadata": {
        "trusted": true
      },
      "outputs": [
        {
          "name": "stdout",
          "output_type": "stream",
          "text": "Yes, 'apple' is in the tuple\n"
        }
      ],
      "execution_count": 6
    },
    {
      "id": "96f451be-3d5b-4b79-9ae9-cfae32d2e305",
      "cell_type": "code",
      "source": "fruits = (\"apple\", \"banana\", \"cherry\")\nfruits_list = list(fruits)\nfruits_list[1] = \"kiwi\"\nfruits = tuple(fruits_list)\nprint(fruits)\n",
      "metadata": {
        "trusted": true
      },
      "outputs": [
        {
          "name": "stdout",
          "output_type": "stream",
          "text": "('apple', 'kiwi', 'cherry')\n"
        }
      ],
      "execution_count": 7
    },
    {
      "id": "5ea072ba-2b60-4aee-a1f2-3c1bd8b8304b",
      "cell_type": "code",
      "source": "fruit_set = {\"apple\", \"banana\", \"cherry\"}\nfruit_set.add(\"orange\")\nfruit_set.remove(\"banana\")\nprint(fruit_set)\n",
      "metadata": {
        "trusted": true
      },
      "outputs": [
        {
          "name": "stdout",
          "output_type": "stream",
          "text": "{'orange', 'cherry', 'apple'}\n"
        }
      ],
      "execution_count": 8
    },
    {
      "id": "b7325b55-a227-4ebe-b3d6-93513ffabed4",
      "cell_type": "code",
      "source": "fruits = (\"apple\", \"banana\", \"cherry\")\nfor fruit in fruits:\n    print(fruit)\n",
      "metadata": {
        "trusted": true
      },
      "outputs": [
        {
          "name": "stdout",
          "output_type": "stream",
          "text": "apple\nbanana\ncherry\n"
        }
      ],
      "execution_count": 9
    },
    {
      "id": "876469a6-e1f0-48d3-81b3-5e5ce57bd4a9",
      "cell_type": "code",
      "source": "fruit_set = {\"apple\", \"banana\", \"cherry\"}\nfruit_set.update({\"pineapple\", \"mango\", \"papaya\"})\nfruit_set.update([\"kiwi\", \"orange\"])\nprint(fruit_set)\n",
      "metadata": {
        "trusted": true
      },
      "outputs": [
        {
          "name": "stdout",
          "output_type": "stream",
          "text": "{'orange', 'banana', 'cherry', 'apple', 'mango', 'pineapple', 'kiwi', 'papaya'}\n"
        }
      ],
      "execution_count": 10
    }
  ]
}