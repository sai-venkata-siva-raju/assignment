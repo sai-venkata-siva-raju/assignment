{
  "metadata": {
    "kernelspec": {
      "name": "python",
      "display_name": "Python (Pyodide)",
      "language": "python"
    },
    "language_info": {
      "codemirror_mode": {
        "name": "python",
        "version": 3
      },
      "file_extension": ".py",
      "mimetype": "text/x-python",
      "name": "python",
      "nbconvert_exporter": "python",
      "pygments_lexer": "ipython3",
      "version": "3.8"
    }
  },
  "nbformat_minor": 5,
  "nbformat": 4,
  "cells": [
    {
      "id": "df31a4dd-6cd7-4ac9-a8c2-33d803259924",
      "cell_type": "code",
      "source": "try:\n    result = 10 / 0\nexcept ZeroDivisionError:\n    print(\"Cannot divide by zero. Please check your math!\")\n",
      "metadata": {
        "trusted": true
      },
      "outputs": [
        {
          "name": "stdout",
          "output_type": "stream",
          "text": "Cannot divide by zero. Please check your math!\n"
        }
      ],
      "execution_count": 3
    },
    {
      "id": "1eb5712f-010d-4af7-9bd7-a535fc86d92f",
      "cell_type": "code",
      "source": "try:\n    print(undeclared_variable)\nexcept NameError:\n    print(\"Variable is not defined\")\n",
      "metadata": {
        "trusted": true
      },
      "outputs": [
        {
          "name": "stdout",
          "output_type": "stream",
          "text": "Variable is not defined\n"
        }
      ],
      "execution_count": 4
    },
    {
      "id": "7b64dcdc-f1f3-4d50-a7d7-8d36a7a3858c",
      "cell_type": "code",
      "source": "try:\n    with open(\"non_existent_file.txt\", \"r\") as file:\n        content = file.read()\nexcept FileNotFoundError:\n    print(\"The file does not exist.\")\nfinally:\n    print(\"Operation finished\")\n",
      "metadata": {
        "trusted": true
      },
      "outputs": [
        {
          "name": "stdout",
          "output_type": "stream",
          "text": "The file does not exist.\nOperation finished\n"
        }
      ],
      "execution_count": 5
    },
    {
      "id": "1f9e25c9-0e67-4a76-8e41-c0b91543e2ff",
      "cell_type": "code",
      "source": "try:\n    number = int(input(\"Enter a number: \"))\n    if number < 0:\n        raise ValueError(\"Number is not positive\")\nexcept Exception as e:\n    print(\"An error occurred:\", e)\nelse:\n    print(\"The number is positive\")\n",
      "metadata": {
        "trusted": true
      },
      "outputs": [
        {
          "name": "stdout",
          "output_type": "stream",
          "text": "An error occurred: int() argument must be a string, a bytes-like object or a real number, not 'PyodideFuture'\n"
        },
        {
          "output_type": "stream",
          "name": "stdin",
          "text": "Enter a number:  212\n"
        }
      ],
      "execution_count": 6
    },
    {
      "id": "9b5b040b-b471-4748-a7cb-58c29f7b95b7",
      "cell_type": "code",
      "source": "age = -5 \n\nif age < 0:\n    raise ValueError(\"Age cannot be negative\")\nelse:\n    print(f\"Age is {age}\")\n",
      "metadata": {
        "trusted": true
      },
      "outputs": [
        {
          "ename": "<class 'ValueError'>",
          "evalue": "Age cannot be negative",
          "traceback": [
            "\u001b[0;31m---------------------------------------------------------------------------\u001b[0m",
            "\u001b[0;31mValueError\u001b[0m                                Traceback (most recent call last)",
            "Cell \u001b[0;32mIn[7], line 4\u001b[0m\n\u001b[1;32m      1\u001b[0m age \u001b[38;5;241m=\u001b[39m \u001b[38;5;241m-\u001b[39m\u001b[38;5;241m5\u001b[39m  \u001b[38;5;66;03m# Change this value to test different inputs\u001b[39;00m\n\u001b[1;32m      3\u001b[0m \u001b[38;5;28;01mif\u001b[39;00m age \u001b[38;5;241m<\u001b[39m \u001b[38;5;241m0\u001b[39m:\n\u001b[0;32m----> 4\u001b[0m     \u001b[38;5;28;01mraise\u001b[39;00m \u001b[38;5;167;01mValueError\u001b[39;00m(\u001b[38;5;124m\"\u001b[39m\u001b[38;5;124mAge cannot be negative\u001b[39m\u001b[38;5;124m\"\u001b[39m)\n\u001b[1;32m      5\u001b[0m \u001b[38;5;28;01melse\u001b[39;00m:\n\u001b[1;32m      6\u001b[0m     \u001b[38;5;28mprint\u001b[39m(\u001b[38;5;124mf\u001b[39m\u001b[38;5;124m\"\u001b[39m\u001b[38;5;124mAge is \u001b[39m\u001b[38;5;132;01m{\u001b[39;00mage\u001b[38;5;132;01m}\u001b[39;00m\u001b[38;5;124m\"\u001b[39m)\n",
            "\u001b[0;31mValueError\u001b[0m: Age cannot be negative"
          ],
          "output_type": "error"
        }
      ],
      "execution_count": 7
    }
  ]
}