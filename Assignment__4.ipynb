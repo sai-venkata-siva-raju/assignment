{
  "metadata": {
    "kernelspec": {
      "name": "python",
      "display_name": "Python (Pyodide)",
      "language": "python"
    },
    "language_info": {
      "codemirror_mode": {
        "name": "python",
        "version": 3
      },
      "file_extension": ".py",
      "mimetype": "text/x-python",
      "name": "python",
      "nbconvert_exporter": "python",
      "pygments_lexer": "ipython3",
      "version": "3.8"
    }
  },
  "nbformat_minor": 5,
  "nbformat": 4,
  "cells": [
    {
      "id": "eccd2ab7-d3d6-48b8-8ccf-1f260838ca1c",
      "cell_type": "code",
      "source": "a = 10\nb = 3\nprint(\"Addition:\",a + b) \nprint(\"Subtraction:\", a - b)  \nprint(\"Multiplication: \", a * b)\nprint(\"Division: \" ,a / b)  \nprint(\"Modulus: \", a % b)  \nprint(\"Exponentiation:\" ,a ** b) \nprint(\"Floor Division:\" ,a // b) ",
      "metadata": {
        "trusted": true
      },
      "outputs": [
        {
          "name": "stdout",
          "output_type": "stream",
          "text": "Addition: 13\nSubtraction: 7\nMultiplication:  30\nDivision:  3.3333333333333335\nModulus:  1\nExponentiation: 1000\nFloor Division: 3\n"
        }
      ],
      "execution_count": 18
    },
    {
      "id": "98015c32-df03-4fb7-954a-217cb097ae9b",
      "cell_type": "code",
      "source": "print(5 < 10)\nprint(15 > 20)\nprint(7 == 7)\nprint(3 != 8)\n\nprint(\"apple\"<\"banana\")\nprint(\"apple\">\"banana\")\nprint(\"apple\"==\"apple\")\nprint(\"apple\"!=\"apple\")\n",
      "metadata": {
        "trusted": true
      },
      "outputs": [
        {
          "name": "stdout",
          "output_type": "stream",
          "text": "True\nFalse\nTrue\nTrue\nTrue\nFalse\nTrue\nFalse\n"
        }
      ],
      "execution_count": 20
    },
    {
      "id": "ee7e8b89-4ab7-407d-b8e5-197fa0ca6307",
      "cell_type": "code",
      "source": "print(\"name\" in \"student name\")\nprint(\"name\" not in \"student name\")",
      "metadata": {
        "trusted": true
      },
      "outputs": [
        {
          "name": "stdout",
          "output_type": "stream",
          "text": "True\nFalse\n"
        }
      ],
      "execution_count": 22
    },
    {
      "id": "c1e3f4c7-949f-42cc-b849-bf2622960c28",
      "cell_type": "code",
      "source": "age=[20,30,22,33,44]\nfor i in age:\n    print(i)",
      "metadata": {
        "trusted": true
      },
      "outputs": [
        {
          "name": "stdout",
          "output_type": "stream",
          "text": "20\n30\n22\n33\n44\n"
        }
      ],
      "execution_count": 24
    },
    {
      "id": "0569eca9-6262-4cdb-bc8d-efcbd4111dd3",
      "cell_type": "code",
      "source": "text = \"  Hello, World! Welcome to Python programming.  \"\nsliced = text[2:14] \nprint(\"Sliced:\", sliced)\nlast_char = text[-1] \nprint(\"Last character (using negative indexing):\", last_char)\nupper_text = text.upper()\nprint(\"Uppercase:\", upper_text)\nlower_text = text.lower()\nprint(\"Lowercase:\", lower_text)\nstripped_text = text.strip()\nprint(\"Stripped whitespace:\", stripped_text)\nreplaced_text = text.replace(\"Python\", \"Java\")\nprint(\"Replaced substring:\", replaced_text)\nsplit_text = text.split() \nprint(\"Split into list:\", split_text)\n",
      "metadata": {
        "trusted": true
      },
      "outputs": [
        {
          "name": "stdout",
          "output_type": "stream",
          "text": "Sliced: Hello, World\nLast character (using negative indexing):  \nUppercase:   HELLO, WORLD! WELCOME TO PYTHON PROGRAMMING.  \nLowercase:   hello, world! welcome to python programming.  \nStripped whitespace: Hello, World! Welcome to Python programming.\nReplaced substring:   Hello, World! Welcome to Java programming.  \nSplit into list: ['Hello,', 'World!', 'Welcome', 'to', 'Python', 'programming.']\n"
        }
      ],
      "execution_count": 25
    },
    {
      "id": "6f5d7fe4-c5e9-4840-b93e-69a47c91593b",
      "cell_type": "code",
      "source": "my_list = [1, 2, 3]\nprint(\"Original list:\", my_list)\nmy_list.append(4)\nprint(\"After append(4):\", my_list)\nmy_list.insert(1, 'inserted')\nprint(\"After insert(1, 'inserted'):\", my_list)\nmy_list.remove('inserted')\nprint(\"After remove('inserted'):\", my_list)\npopped_item = my_list.pop()\nprint(\"After pop():\", my_list)\nprint(\"Popped item:\", popped_item)\ndel my_list[0]\nprint(\"After del my_list[0]:\", my_list)\nlist_1 = [1, 2, 3, 4, \"power\", True]\nlist_2 = [\"one\", \"two\", \"Three\", \"Data\", False]\ncombined_list = list_1 + list_2\nprint(\"\\nCombined list:\")\nfor item in combined_list:\n    print(item)\nfound = False\nfor item in combined_list:\n    if isinstance(item, str) and item.lower() == \"data\":\n        found = True\n        break\n\nif found:\n    print(\"\\n'data' is present in the combined list.\")\nelse:\n    print(\"\\n'data' is NOT present in the combined list.\")\n",
      "metadata": {
        "trusted": true
      },
      "outputs": [
        {
          "name": "stdout",
          "output_type": "stream",
          "text": "Original list: [1, 2, 3]\nAfter append(4): [1, 2, 3, 4]\nAfter insert(1, 'inserted'): [1, 'inserted', 2, 3, 4]\nAfter remove('inserted'): [1, 2, 3, 4]\nAfter pop(): [1, 2, 3]\nPopped item: 4\nAfter del my_list[0]: [2, 3]\n\nCombined list:\n1\n2\n3\n4\npower\nTrue\none\ntwo\nThree\nData\nFalse\n\n'data' is present in the combined list.\n"
        }
      ],
      "execution_count": 26
    },
    {
      "id": "27681e02-c09d-4a8b-874a-c54538201194",
      "cell_type": "code",
      "source": "",
      "metadata": {
        "trusted": true
      },
      "outputs": [],
      "execution_count": null
    }
  ]
}